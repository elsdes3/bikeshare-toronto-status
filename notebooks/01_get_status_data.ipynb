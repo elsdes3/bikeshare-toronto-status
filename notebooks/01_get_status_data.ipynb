{
 "cells": [
  {
   "cell_type": "markdown",
   "id": "ac4d9307-1b39-4c1b-8c16-f3f4174eecaf",
   "metadata": {},
   "source": [
    "# Get Live Station Status Data"
   ]
  },
  {
   "cell_type": "code",
   "execution_count": null,
   "id": "a6e44c25-de24-4c63-9b8c-4782ed7f39fc",
   "metadata": {
    "tags": []
   },
   "outputs": [],
   "source": [
    "%load_ext autoreload\n",
    "%autoreload 2"
   ]
  },
  {
   "cell_type": "code",
   "execution_count": null,
   "id": "1b18c228-25d2-4d3f-8255-4037cdb34528",
   "metadata": {
    "tags": []
   },
   "outputs": [],
   "source": [
    "import os\n",
    "import sys\n",
    "\n",
    "import requests"
   ]
  },
  {
   "cell_type": "code",
   "execution_count": null,
   "id": "189ff1c2-2706-4900-af92-55ae4d278b88",
   "metadata": {
    "tags": []
   },
   "outputs": [],
   "source": [
    "PROJ_ROOT = os.path.join(os.pardir)\n",
    "src_dir = os.path.join(PROJ_ROOT, \"deployments\")\n",
    "sys.path.append(src_dir)"
   ]
  },
  {
   "cell_type": "code",
   "execution_count": null,
   "id": "800afcbe-4073-4a99-863e-150d3be6d6d0",
   "metadata": {
    "tags": []
   },
   "outputs": [],
   "source": [
    "%aimport etl_station_flow\n",
    "from etl_station_flow import run_station_status_etl_workflow"
   ]
  },
  {
   "cell_type": "markdown",
   "id": "ead52a99-288a-4475-98d6-5ce75d63e764",
   "metadata": {},
   "source": [
    "## About"
   ]
  },
  {
   "cell_type": "markdown",
   "id": "e7272a81-4cd0-472a-b6e9-5254556c6aac",
   "metadata": {},
   "source": [
    "Retrieve live station status data. This will be used to perform validation of the analysis (ML-based rebalancing) at the end of the study.\n",
    "\n",
    "Status data should be retrieved during the study period of the\n",
    "- previous year (control)\n",
    "  - ML was not in use for station reblancing\n",
    "- current year (treatment)\n",
    "  - ML was used for station reblancing"
   ]
  },
  {
   "cell_type": "markdown",
   "id": "7f459f3d-f480-445a-b508-e3a5fb2ea508",
   "metadata": {},
   "source": [
    "## User Inputs"
   ]
  },
  {
   "cell_type": "code",
   "execution_count": null,
   "id": "5542e313-afcd-4958-9ff7-ca8366bf6d52",
   "metadata": {
    "tags": [
     "parameters"
    ]
   },
   "outputs": [],
   "source": [
    "system_auto_disc_url = \"https://tor.publicbikesystem.net/customer/gbfs/v2/gbfs.json\"\n",
    "tz = \"America/Toronto\"\n",
    "country_code = \"Canada\"\n",
    "system_name = \"Bike Share Toronto\"\n",
    "location = \"Toronto\"\n",
    "s3_bucket_name = \"bikeshare-toronto-dash\""
   ]
  },
  {
   "cell_type": "markdown",
   "id": "8de2f6ba-ee81-463e-8e86-09b976ea68a1",
   "metadata": {},
   "source": [
    "## Run ETL Pipeline to Retrieve Station Status Data"
   ]
  },
  {
   "cell_type": "code",
   "execution_count": null,
   "id": "b9b66d2f-b9b3-4015-bfab-cde83d719ca1",
   "metadata": {
    "tags": []
   },
   "outputs": [],
   "source": [
    "%%time\n",
    "run_station_status_etl_workflow(\n",
    "    system_auto_disc_url,\n",
    "    tz,\n",
    "    country_code,\n",
    "    system_name,\n",
    "    location,\n",
    "    s3_bucket_name,\n",
    ")"
   ]
  },
  {
   "cell_type": "markdown",
   "id": "759d4982-26cb-46be-9097-d57f1add5005",
   "metadata": {},
   "source": [
    "---"
   ]
  }
 ],
 "metadata": {
  "kernelspec": {
   "display_name": "Python 3 (ipykernel)",
   "language": "python",
   "name": "python3"
  },
  "language_info": {
   "codemirror_mode": {
    "name": "ipython",
    "version": 3
   },
   "file_extension": ".py",
   "mimetype": "text/x-python",
   "name": "python",
   "nbconvert_exporter": "python",
   "pygments_lexer": "ipython3",
   "version": "3.10.12"
  }
 },
 "nbformat": 4,
 "nbformat_minor": 5
}
